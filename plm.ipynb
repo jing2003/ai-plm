{
 "cells": [
  {
   "cell_type": "markdown",
   "id": "19a58513",
   "metadata": {},
   "source": [
    "# Pre-Trained Language Models (PLM)"
   ]
  },
  {
   "cell_type": "markdown",
   "id": "bad89592-f448-4086-9734-1de564a933df",
   "metadata": {},
   "source": [
    "#### Part I: BERT Implementation"
   ]
  },
  {
   "cell_type": "code",
   "execution_count": 1,
   "id": "f87f03b5-6b84-47dd-a169-3ad87a170067",
   "metadata": {},
   "outputs": [],
   "source": [
    "import os\n",
    "import re\n",
    "from concurrent.futures import ThreadPoolExecutor, as_completed\n",
    "\n",
    "import torch\n",
    "from torch.utils.data import DataLoader, TensorDataset\n",
    "import torch.optim as optim\n",
    "from transformers import DistilBertTokenizer, DistilBertForSequenceClassification\n",
    "\n",
    "import matplotlib.pyplot as plt\n",
    "from sklearn.metrics import accuracy_score, precision_score, recall_score, f1_score\n"
   ]
  },
  {
   "cell_type": "code",
   "execution_count": 2,
   "id": "135092f6",
   "metadata": {},
   "outputs": [
    {
     "name": "stdout",
     "output_type": "stream",
     "text": [
      "Label: 1\n",
      "If people didn't know who Barbra Streisand was before this,...(is that POSSIBLE?)...they sure knew who she was after!<br /><br />This show went on to win 5 Emmys, & stands out as one the best things Streisand has ever done.<br /><br />It's made up of 3 acts....<br /><br />ACT I...Barbra singing standards from room to room, filled with musicians, including a segment where she is a little girl again,all ending with a splendid version of her signature song,(at the time)...\"People\".<br /><br />ACT II....A musical tour of Bergdoff-Goodman,while Barbra Sings poverty songs..it's better than it sounds...<br /><br />ACT III.....The best part, Just\n"
     ]
    }
   ],
   "source": [
    "# Function to read and clean data for one review\n",
    "def process_file(file_path, label):\n",
    "    with open(file_path, 'r', encoding='utf-8') as file:\n",
    "        review_text = file.read()\n",
    "    return review_text, label\n",
    "\n",
    "# Function to read the data in parallel\n",
    "def load_data(data_dir):\n",
    "    reviews = []\n",
    "    labels = []\n",
    "    tasks = []\n",
    "    \n",
    "    with ThreadPoolExecutor() as executor:\n",
    "        for label_type in ['pos', 'neg']:\n",
    "            \n",
    "            dir_name = os.path.join(data_dir, label_type)\n",
    "            label = 1 if label_type == 'pos' else 0\n",
    "            \n",
    "            for file_name in os.listdir(dir_name):\n",
    "                file_path = os.path.join(dir_name, file_name)\n",
    "                # Submit tasks to process files in parallel\n",
    "                tasks.append(executor.submit(process_file, file_path, label))\n",
    "        \n",
    "        # Collect results as tasks complete\n",
    "        for task in as_completed(tasks):\n",
    "            review, label = task.result()\n",
    "            reviews.append(review)\n",
    "            labels.append(label)\n",
    "    \n",
    "    return reviews, labels\n",
    "\n",
    "# Load train and test datasets\n",
    "train_reviews, train_labels = load_data('train')\n",
    "test_reviews, test_labels = load_data('test')\n",
    "\n",
    "# View an example of a review\n",
    "print(f\"Label: {train_labels[0]}\")\n",
    "print(\" \".join(train_reviews[0].split()[:100])) \n"
   ]
  },
  {
   "cell_type": "code",
   "execution_count": 3,
   "id": "41119fa2",
   "metadata": {},
   "outputs": [
    {
     "name": "stderr",
     "output_type": "stream",
     "text": [
      "Some weights of DistilBertForSequenceClassification were not initialized from the model checkpoint at distilbert-base-uncased and are newly initialized: ['classifier.bias', 'classifier.weight', 'pre_classifier.bias', 'pre_classifier.weight']\n",
      "You should probably TRAIN this model on a down-stream task to be able to use it for predictions and inference.\n"
     ]
    }
   ],
   "source": [
    "# Initialize DistilBERT tokenizer\n",
    "tokenizer = DistilBertTokenizer.from_pretrained('distilbert-base-uncased')\n",
    "\n",
    "# Tokenize the datasets\n",
    "def tokenize_data(reviews, labels):\n",
    "    encoding = tokenizer(reviews, padding=True, truncation=True, max_length=250, return_tensors='pt')\n",
    "    labels = torch.tensor(labels)\n",
    "    return TensorDataset(encoding['input_ids'], encoding['attention_mask'], labels)\n",
    "\n",
    "train_dataset = tokenize_data(train_reviews, train_labels)\n",
    "test_dataset = tokenize_data(test_reviews, test_labels)\n",
    "\n",
    "# Create DataLoader for batching\n",
    "batch_size = 128\n",
    "train_loader = DataLoader(train_dataset, batch_size=batch_size, shuffle=True)\n",
    "test_loader = DataLoader(test_dataset, batch_size=batch_size, shuffle=False)\n",
    "\n",
    "# Load pre-trained DistilBERT model for sequence classification\n",
    "model = DistilBertForSequenceClassification.from_pretrained('distilbert-base-uncased', num_labels=2)\n",
    "optimizer = optim.Adam(model.parameters(), lr=0.001)\n",
    "epochs = 3\n"
   ]
  },
  {
   "cell_type": "code",
   "execution_count": null,
   "id": "1c05c0b1-fdab-4455-ac53-d21fcb07f94e",
   "metadata": {},
   "outputs": [],
   "source": [
    "# Training function\n",
    "def train_model(model, train_loader, optimizer, epochs):\n",
    "    model.train()\n",
    "    loss_values = []\n",
    "    \n",
    "    for epoch in range(epochs):\n",
    "        total_loss = 0\n",
    "        correct_predictions = 0\n",
    "        total_predictions = 0\n",
    "        \n",
    "        for batch in train_loader:\n",
    "            input_ids, attention_mask, labels = [item for item in batch]\n",
    "            \n",
    "            # Zero the parameter gradients\n",
    "            optimizer.zero_grad()\n",
    "            \n",
    "            # Forward pass\n",
    "            outputs = model(input_ids, attention_mask=attention_mask, labels=labels)\n",
    "            loss = outputs.loss\n",
    "            total_loss += loss.item()\n",
    "            \n",
    "            # Backward pass and optimization\n",
    "            loss.backward()\n",
    "            optimizer.step()\n",
    "\n",
    "            # Get predictions and calculate the number of correct predictions\n",
    "            logits = outputs.logits\n",
    "            preds = torch.argmax(logits, dim=1)\n",
    "            correct_predictions += torch.sum(preds == labels).item()\n",
    "            total_predictions += labels.size(0)\n",
    "        \n",
    "        # Calculate average loss and accuracy for the epoch\n",
    "        avg_loss = total_loss / len(train_loader)\n",
    "        accuracy = correct_predictions / total_predictions\n",
    "        loss_values.append(avg_loss)\n",
    "        \n",
    "        print(f'Epoch {epoch + 1}/{epochs}, Loss: {avg_loss}, Accuracy: {accuracy:.4f}')\n",
    "\n",
    "    # Plotting the Training Convergence Plot\n",
    "    plt.plot(range(1, len(loss_values) + 1), loss_values)\n",
    "    plt.title('Training Loss Convergence')\n",
    "    plt.xlabel('Epochs')\n",
    "    plt.ylabel('Loss')\n",
    "    plt.grid(True)\n",
    "    plt.show()\n",
    "\n",
    "# Train the model\n",
    "train_model(model, train_loader, optimizer, epochs)\n"
   ]
  },
  {
   "cell_type": "code",
   "execution_count": null,
   "id": "b26826e1-ac55-420c-8111-04913540e31b",
   "metadata": {},
   "outputs": [],
   "source": [
    "# Evaluation function\n",
    "def evaluate_model(model, test_loader):\n",
    "    model.eval()\n",
    "    all_preds = []\n",
    "    all_labels = []\n",
    "    \n",
    "    with torch.no_grad():\n",
    "        for batch in test_loader:\n",
    "            input_ids, attention_mask, labels = [item for item in batch]\n",
    "            outputs = model(input_ids, attention_mask=attention_mask)\n",
    "            logits = outputs.logits\n",
    "            preds = torch.argmax(logits, dim=1)\n",
    "            all_preds.extend(preds.numpy())\n",
    "            all_labels.extend(labels.numpy())\n",
    "    \n",
    "    accuracy = accuracy_score(all_labels, all_preds)\n",
    "    precision = precision_score(all_labels, all_preds)\n",
    "    recall = recall_score(all_labels, all_preds)\n",
    "    f1 = f1_score(all_labels, all_preds)\n",
    "\n",
    "    print(f'Test Accuracy: {accuracy:.4f}')\n",
    "    print(f'Precision: {precision:.4f}')\n",
    "    print(f'Recall: {recall:.4f}')\n",
    "    print(f'F1 Score: {f1:.4f}')\n",
    "\n",
    "# Evaluate the model\n",
    "evaluate_model(model, test_loader)\n"
   ]
  },
  {
   "cell_type": "markdown",
   "id": "8c7f25f9-704e-4571-8db3-87392d3ff0c2",
   "metadata": {},
   "source": [
    "#### Part II: Fine-Tuning GPT-2 for Joke Generation"
   ]
  },
  {
   "cell_type": "code",
   "execution_count": 8,
   "id": "865071c1-7bd3-4fde-ac64-4267267868b2",
   "metadata": {},
   "outputs": [],
   "source": [
    "import pandas as pd\n",
    "from datasets import Dataset\n",
    "\n",
    "from transformers import GPT2Tokenizer, GPT2LMHeadModel\n",
    "import torch\n",
    "from torch.utils.data import DataLoader\n",
    "from torch.optim import AdamW\n",
    "from tqdm import tqdm"
   ]
  },
  {
   "cell_type": "code",
   "execution_count": 9,
   "id": "a34255a0-6298-4980-bea1-63d7b1af2511",
   "metadata": {},
   "outputs": [
    {
     "name": "stdout",
     "output_type": "stream",
     "text": [
      "['What did the bartender say to the jumper cables? You better not try to start anything.']\n"
     ]
    }
   ],
   "source": [
    "# Load the dataset\n",
    "df = pd.read_csv('data')\n",
    "\n",
    "# Extract the jokes column\n",
    "jokes = df['Joke'].tolist()\n",
    "\n",
    "# View an example of a joke\n",
    "print(jokes[:1])\n"
   ]
  },
  {
   "cell_type": "code",
   "execution_count": null,
   "id": "c01e4384-2105-4e8f-bce6-6f474304d26d",
   "metadata": {},
   "outputs": [
    {
     "data": {
      "application/vnd.jupyter.widget-view+json": {
       "model_id": "9f1ce041fd574a2d8a394f6168f95ada",
       "version_major": 2,
       "version_minor": 0
      },
      "text/plain": [
       "Map:   0%|          | 0/1622 [00:00<?, ? examples/s]"
      ]
     },
     "metadata": {},
     "output_type": "display_data"
    },
    {
     "name": "stdout",
     "output_type": "stream",
     "text": [
      "Epoch 1/3\n"
     ]
    },
    {
     "name": "stderr",
     "output_type": "stream",
     "text": [
      "Loss 0.8588:  24%|██▍       | 97/406 [21:38<1:17:53, 15.12s/it]  "
     ]
    }
   ],
   "source": [
    "# Convert the list of jokes into a dataset\n",
    "jokes_dataset = Dataset.from_dict({\"text\": jokes})\n",
    "\n",
    "# Load GPT-2 tokenizer and model\n",
    "tokenizer = GPT2Tokenizer.from_pretrained(\"gpt2\")\n",
    "model = GPT2LMHeadModel.from_pretrained(\"gpt2\")\n",
    "\n",
    "# Add [PAD] token to the tokenizer\n",
    "tokenizer.add_special_tokens({'pad_token': '[PAD]'})\n",
    "\n",
    "# Resize the model’s embedding layer to account for the added special token\n",
    "model.resize_token_embeddings(len(tokenizer))\n",
    "\n",
    "# Tokenize the jokes\n",
    "def tokenize_function(examples):\n",
    "    return tokenizer(examples[\"text\"], truncation=True, padding=\"max_length\", max_length=128)\n",
    "\n",
    "tokenized_jokes = jokes_dataset.map(tokenize_function, batched=True)\n",
    "\n",
    "# Convert the dataset into PyTorch DataLoader\n",
    "tokenized_jokes.set_format(type=\"torch\", columns=[\"input_ids\", \"attention_mask\"])\n",
    "dataloader = DataLoader(tokenized_jokes, batch_size=4, shuffle=True)\n",
    "\n",
    "# Set up the optimizer\n",
    "optimizer = AdamW(model.parameters(), lr=5e-5)\n",
    "\n",
    "# Move the model to GPU if available\n",
    "device = torch.device(\"cuda\" if torch.cuda.is_available() else \"cpu\")\n",
    "model.to(device)\n",
    "\n",
    "# Training loop\n",
    "epochs = 3\n",
    "model.train()  # Set the model to training mode\n",
    "\n",
    "for epoch in range(epochs):\n",
    "    print(f\"Epoch {epoch + 1}/{epochs}\")\n",
    "    loop = tqdm(dataloader, leave=True)  # Progress bar\n",
    "\n",
    "    for batch in loop:\n",
    "        # Move batch data to the same device as the model\n",
    "        input_ids = batch[\"input_ids\"].to(device)\n",
    "        attention_mask = batch[\"attention_mask\"].to(device)\n",
    "\n",
    "        # Forward pass\n",
    "        outputs = model(input_ids=input_ids, attention_mask=attention_mask, labels=input_ids)\n",
    "        loss = outputs.loss\n",
    "\n",
    "        # Backward pass\n",
    "        loss.backward()\n",
    "\n",
    "        # Optimize\n",
    "        optimizer.step()\n",
    "        optimizer.zero_grad()\n",
    "\n",
    "        # Update progress bar\n",
    "        loop.set_description(f\"Loss {loss.item():.4f}\")\n",
    "\n",
    "# Save the fine-tuned model\n",
    "model.save_pretrained(\"./fine_tuned_gpt2_jokes\")\n",
    "tokenizer.save_pretrained(\"./fine_tuned_gpt2_jokes\")\n"
   ]
  },
  {
   "cell_type": "code",
   "execution_count": null,
   "id": "3a983552-e398-4311-9aa3-b533a0f136b5",
   "metadata": {},
   "outputs": [],
   "source": []
  }
 ],
 "metadata": {
  "kernelspec": {
   "display_name": "Python 3 (ipykernel)",
   "language": "python",
   "name": "python3"
  },
  "language_info": {
   "codemirror_mode": {
    "name": "ipython",
    "version": 3
   },
   "file_extension": ".py",
   "mimetype": "text/x-python",
   "name": "python",
   "nbconvert_exporter": "python",
   "pygments_lexer": "ipython3",
   "version": "3.9.20"
  }
 },
 "nbformat": 4,
 "nbformat_minor": 5
}
